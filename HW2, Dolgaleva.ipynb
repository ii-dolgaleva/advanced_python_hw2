{
 "cells": [
  {
   "cell_type": "markdown",
   "metadata": {
    "colab_type": "text",
    "id": "3VHVjLzwxzKH"
   },
   "source": [
    "### Сторонние библиотеки использовать нельзя"
   ]
  },
  {
   "cell_type": "markdown",
   "metadata": {
    "colab_type": "text",
    "id": "fGMR8kHhxzKJ"
   },
   "source": [
    "### Задача 0 [Библиотека] (0.15 балла)  \n",
    "\n",
    "**Условие:** \n",
    "\n",
    "\n",
    "В библиотеке хранятся книги и журналы. У каждой сущности есть общие характеристики, такие как: название, автор, жанр, число страниц, формат страниц, индекс редкости (от 1 до 10) и текст. Также у разных сущностей могут быть свои атрибуты. Хочется все редкие издания (индекс 9 или 10) дополнительно сохранять в некое хранилище (пусть json-файл), а также хочется понимать какую площадь занимает издание, если разложить все его страницы на полу.     \n",
    "\n",
    "\n",
    "**Комментарий:**\n",
    "\n",
    "Это задача с семинара на организацию иерархии классов. Идея в том, что нужно разделять сущности в зависимости от их применения. Например, есть книга как некий абстрактный объект, а есть библиотечная книга, у которой есть свои особенности. Также для сохранения книг в json нужно использвать классы-примеси.\n",
    "\n",
    "\n",
    "Иерархия классов:"
   ]
  },
  {
   "cell_type": "code",
   "execution_count": 1,
   "metadata": {
    "colab": {},
    "colab_type": "code",
    "collapsed": true,
    "id": "rpY2kLnZQjqu"
   },
   "outputs": [],
   "source": [
    "import json\n",
    "\n",
    "PAGES_FORMAT = {\n",
    "    'A1': (2048, 1024),\n",
    "    'A2': (1024, 512),\n",
    "    'A3': (512, 256),\n",
    "    'A4': (297, 210),\n",
    "}\n",
    "\n",
    "rare_editions_filepath = \"rare_editions.jsonl\"\n",
    "\n",
    "\n",
    "class ReadableEntity:\n",
    "    '''\n",
    "    A class used to represent Readable Entity\n",
    "    '''\n",
    "    def __init__(self, name, genre, num_pages, format_pages, index_rareness, text):\n",
    "        \"\"\"\n",
    "        :param name: name of the ReadableEntity, len > 0\n",
    "        :type name: str\n",
    "        \n",
    "        :param genre: genre of the ReadableEntity, len > 0\n",
    "        :type genre: str\n",
    "\n",
    "        :param num_pages: number of pages of the ReadableEntity, greater than 0\n",
    "        :type num_pages: int\n",
    "\n",
    "        :param format_pages: format of pages of the ReadableEntity, one of the PAGES_FORMAT\n",
    "        :type format_pages: str\n",
    "\n",
    "        :param index_rareness: index of rareness of the ReadableEntity, integer in range [1,10]\n",
    "        :type index_rareness: int\n",
    "\n",
    "        :param text: text of the ReadableEntity, len > 0\n",
    "        :type text: str\n",
    "        \"\"\"\n",
    "        try:\n",
    "            num_pages = int(num_pages)\n",
    "            index_rareness = int(index_rareness)\n",
    "        except ValueError:\n",
    "            print(\"Wrong number type\")\n",
    "            raise\n",
    "\n",
    "        for param in [num_pages, index_rareness]:\n",
    "            if not isinstance(param, int):\n",
    "                raise TypeError(\"Wrong number type for\", param)\n",
    "\n",
    "        for param in [name, genre, format_pages, text]:\n",
    "            if not isinstance(param, str):\n",
    "                raise TypeError(\"Wrong number type for\", param)\n",
    "\n",
    "        if num_pages <= 0:\n",
    "            raise ValueError(\"num_pages should be positive\")\n",
    "\n",
    "        if index_rareness not in range(1, 11):\n",
    "            raise ValueError(\"index_rareness should be integer number in [1,10]\")\n",
    "\n",
    "        if len(name) == 0 or len(genre) == 0 or len(text) == 0:\n",
    "            raise Exception(\"String parameters should not be empty\")\n",
    "\n",
    "        self.name = name\n",
    "        self.genre = genre\n",
    "        self.num_pages = num_pages\n",
    "        self.format_pages = format_pages\n",
    "        self.index_rareness = index_rareness\n",
    "        self.text = text\n",
    "\n",
    "\n",
    "class Journal(ReadableEntity):\n",
    "    '''\n",
    "    A class used to represent a real Journal as an ancestor of ReadableEntity\n",
    "    '''\n",
    "    def __init__(self, name, genre, num_pages, format_pages, index_rareness, text, has_horoscope=None):\n",
    "        '''\n",
    "        :param has_horoscope: flag of horoscope, optional\n",
    "        :type has_horoscope: bool\n",
    "        '''\n",
    "        super().__init__(name, genre, num_pages, format_pages, index_rareness, text)\n",
    "        \n",
    "        if has_horoscope != None:\n",
    "            if has_horoscope == 0 or has_horoscope == 1:\n",
    "                has_horoscope = bool(has_horoscope)\n",
    "            if not isinstance(has_horoscope, bool):\n",
    "                raise TypeError(\"Wrong number type for\", has_horoscope)\n",
    "\n",
    "        self.has_horoscope = has_horoscope\n",
    "\n",
    "\n",
    "class Book(ReadableEntity):\n",
    "    '''\n",
    "    A class used to represent a real Book as an ancestor of ReadableEntity\n",
    "    '''\n",
    "    def __init__(self, name, genre, num_pages, format_pages, index_rareness, text, has_authors_preface=None,\n",
    "                 has_authors_afterword=None):\n",
    "        '''\n",
    "        :param has_authors_preface: flag of author's preface, optional\n",
    "        :type has_authors_preface: bool\n",
    "        \n",
    "        :param has_authors_afterword: flag of author's afterword, optional\n",
    "        :type has_authors_afterword: bool\n",
    "        '''\n",
    "        super().__init__(name, genre, num_pages, format_pages, index_rareness, text)\n",
    "        \n",
    "        for param in [has_authors_preface, has_authors_afterword]:\n",
    "            if param != None:\n",
    "                if param == 0 or param == 1:\n",
    "                    param = bool(param)\n",
    "                if not isinstance(param, bool):\n",
    "                    raise TypeError(\"Wrong number type for\", param)\n",
    "\n",
    "        self.has_authors_preface = bool(has_authors_preface)\n",
    "        self.has_authors_afterword = bool(has_authors_afterword)\n",
    "\n",
    "\n",
    "class LibraryEntity:\n",
    "    '''\n",
    "    A class used to represent Entity in a Library\n",
    "    '''\n",
    "    def __init__(self, is_available_now=None, last_user_name=None):\n",
    "        '''\n",
    "        :param is_available_now: flag of availability in library, optional\n",
    "        :type is_available_now: bool\n",
    "        \n",
    "        :param last_user_name: name of last user, optional\n",
    "        :type last_user_name: str\n",
    "        '''\n",
    "        if is_available_now != None:\n",
    "            if is_available_now == 0 or is_available_now == 1:\n",
    "                is_available_now = bool(is_available_now)\n",
    "            if not isinstance(is_available_now, bool):\n",
    "                raise TypeError(\"Wrong number type for\", is_available_now)\n",
    "\n",
    "        if last_user_name != None:\n",
    "            if not isinstance(last_user_name, str):\n",
    "                raise TypeError(\"Wrong number type for\", last_user_name)\n",
    "\n",
    "        if len(last_user_name) == 0:\n",
    "            raise Exception(\"last_user_name should not be empty\")\n",
    "\n",
    "        self.is_available_now = is_available_now\n",
    "        self.last_user_name = last_user_name\n",
    "\n",
    "\n",
    "class Exporter:\n",
    "    '''\n",
    "    A class used to represent Exporter \n",
    "    '''\n",
    "    def export_to_txt(self, file_path):\n",
    "        '''\n",
    "        Exports info about oblect to txt\n",
    "        '''\n",
    "        with open(file_path, 'w') as f:\n",
    "            for key in self.__dict__:\n",
    "                f.write(\"{}: {}\\n\".format(key, self.__dict__[key]))\n",
    "            f.write('\\n')\n",
    "\n",
    "    def export_to_json(self, filepath=\"rare_editions.jsonl\"):\n",
    "        with open(filepath, \"a+\", encoding=\"utf-8\") as f:\n",
    "            f.write(json.dumps(self.__dict__, ensure_ascii=False) + \"\\n\")\n",
    "            \n",
    "\n",
    "class SpaceCalculator:\n",
    "    '''\n",
    "    A class used to represent Calculator of the Space\n",
    "    '''\n",
    "    def calculate_space(self):\n",
    "        '''\n",
    "        Calculates the space of pages according to PAGES_FORMAT\n",
    "        \n",
    "        :return: the space of pages \n",
    "        :type: int\n",
    "        '''\n",
    "        height, weight = PAGES_FORMAT[self.format_pages]\n",
    "        return height * weight * self.num_pages\n",
    "\n",
    "\n",
    "class LibraryJournal(Journal, LibraryEntity):\n",
    "    '''\n",
    "    A class used to represent a Journal in the Library, an ancestor of Journal and LibraryEntity\n",
    "    '''\n",
    "    def __init__(self, name, genre, num_pages, format_pages, index_rareness, text, has_horoscope=None,\n",
    "                 is_available_now=None, last_user_name=None):\n",
    "        Journal.__init__(self, name, genre, num_pages, format_pages, index_rareness, text, has_horoscope)\n",
    "        LibraryEntity.__init__(self, is_available_now, last_user_name)\n",
    "        \n",
    "\n",
    "class LibraryBook(Book, LibraryEntity):\n",
    "    '''\n",
    "    A class used to represent a Book in the Library, an ancestor of Book and LibraryEntity\n",
    "    '''\n",
    "    def __init__(self, name, genre, num_pages, format_pages, index_rareness, text, has_authors_preface=None,\n",
    "                 has_authors_afterword=None, is_available_now=None, last_user_name=None):\n",
    "        Book.__init__(self, name, genre, num_pages, format_pages, index_rareness, text, has_authors_preface,\n",
    "                      has_authors_afterword)\n",
    "        LibraryEntity.__init__(self, is_available_now, last_user_name)\n",
    "\n",
    "\n",
    "class LibraryJournal(LibraryJournal, Exporter, SpaceCalculator):\n",
    "    '''\n",
    "    A mix-in class used to represent class LibraryJournal with the functionality of Exporter and SpaceCalculator classes\n",
    "    '''\n",
    "    def __init__(self, *args, **kwargs):\n",
    "        super().__init__(*args, **kwargs)\n",
    "        if self.index_rareness in [9, 10]:\n",
    "            self.export_to_json()\n",
    "    \n",
    "\n",
    "class LibraryBook(LibraryBook, Exporter, SpaceCalculator):\n",
    "    '''\n",
    "    A mix-in class used to represent class LibraryBook with the functionality of Exporter and SpaceCalculator classes\n",
    "    '''\n",
    "    def __init__(self, *args, **kwargs):\n",
    "        super().__init__(*args, **kwargs)\n",
    "        if self.index_rareness in [9, 10]:\n",
    "            self.export_to_json()"
   ]
  },
  {
   "cell_type": "code",
   "execution_count": 2,
   "metadata": {
    "colab": {
     "base_uri": "https://localhost:8080/",
     "height": 51
    },
    "colab_type": "code",
    "collapsed": false,
    "id": "iy0q2cA_Qkfl",
    "outputId": "70cdee32-c3ab-4ac9-8fb0-576aa741e945"
   },
   "outputs": [
    {
     "name": "stdout",
     "output_type": "stream",
     "text": [
      "10 True IRAAAAA True\n",
      "6237000\n"
     ]
    }
   ],
   "source": [
    "cosmo = LibraryJournal(\n",
    "    name='First', \n",
    "    genre='Entertaining', \n",
    "    num_pages=100, \n",
    "    format_pages='A4', \n",
    "    index_rareness=10, \n",
    "    text='Ну приветик!',\n",
    "    has_horoscope=1.,\n",
    "    is_available_now=True,\n",
    "    last_user_name='IRAAAAA'\n",
    ")\n",
    "\n",
    "print(cosmo.index_rareness, cosmo.is_available_now, cosmo.last_user_name, cosmo.has_horoscope)\n",
    "print(cosmo.calculate_space())"
   ]
  },
  {
   "cell_type": "code",
   "execution_count": 3,
   "metadata": {
    "colab": {
     "base_uri": "https://localhost:8080/",
     "height": 51
    },
    "colab_type": "code",
    "collapsed": false,
    "id": "OhKbCoVFtFAJ",
    "outputId": "ece80697-7336-492a-a2a2-2e362c1c2050"
   },
   "outputs": [
    {
     "name": "stdout",
     "output_type": "stream",
     "text": [
      "None None IRAAAAA\n",
      "6237000\n"
     ]
    }
   ],
   "source": [
    "cosmo2 = LibraryJournal(\n",
    "    name='Cosmo2', \n",
    "    genre='Entertaining', \n",
    "    num_pages=100, \n",
    "    format_pages='A4', \n",
    "    index_rareness=9, \n",
    "    text='Ну приветик!',\n",
    "#     has_horoscope=True,\n",
    "#     is_available_now=True,\n",
    "    last_user_name='IRAAAAA'\n",
    ")\n",
    "\n",
    "print(cosmo2.has_horoscope, cosmo2.is_available_now, cosmo2.last_user_name)\n",
    "print(cosmo2.calculate_space())"
   ]
  },
  {
   "cell_type": "code",
   "execution_count": 4,
   "metadata": {
    "colab": {
     "base_uri": "https://localhost:8080/",
     "height": 51
    },
    "colab_type": "code",
    "collapsed": false,
    "id": "Jkjf-70xr1zQ",
    "outputId": "7fe85b59-1f3b-4e14-b25d-cb4e28301695"
   },
   "outputs": [
    {
     "name": "stdout",
     "output_type": "stream",
     "text": [
      "2 True IRAAAAA True\n",
      "6237000\n"
     ]
    }
   ],
   "source": [
    "cosmo3 = LibraryJournal(\n",
    "    name='Cosmo3', \n",
    "    genre='Entertaining', \n",
    "    num_pages=100, \n",
    "    format_pages='A4', \n",
    "    index_rareness=2, \n",
    "    text='Ну приветик!',\n",
    "    has_horoscope=1.,\n",
    "    is_available_now=True,\n",
    "    last_user_name='IRAAAAA'\n",
    ")\n",
    "\n",
    "print(cosmo3.index_rareness, cosmo3.is_available_now, cosmo3.last_user_name, cosmo3.has_horoscope)\n",
    "print(cosmo3.calculate_space())"
   ]
  },
  {
   "cell_type": "code",
   "execution_count": 5,
   "metadata": {
    "colab": {
     "base_uri": "https://localhost:8080/",
     "height": 51
    },
    "colab_type": "code",
    "collapsed": false,
    "id": "mGwxNnrer33h",
    "outputId": "41d3cf49-eec1-4514-f677-9d7b86127484"
   },
   "outputs": [
    {
     "name": "stdout",
     "output_type": "stream",
     "text": [
      "True False Max\n",
      "52428800\n"
     ]
    }
   ],
   "source": [
    "pushkin = LibraryBook(\n",
    "    name='Onegin', \n",
    "    genre='Drama', \n",
    "    num_pages=100, \n",
    "    format_pages='A2', \n",
    "    index_rareness=9, \n",
    "    text='Ну приветик! Onegin',\n",
    "    has_authors_preface=1.,\n",
    "    has_authors_afterword=False,\n",
    "    is_available_now=False,\n",
    "    last_user_name='Max'\n",
    ")\n",
    "\n",
    "print(pushkin.has_authors_preface, pushkin.is_available_now, pushkin.last_user_name)\n",
    "print(pushkin.calculate_space())"
   ]
  },
  {
   "cell_type": "markdown",
   "metadata": {
    "colab_type": "text",
    "id": "E2fF7d7hsz9l"
   },
   "source": [
    "Прочитаем файл с редкими изданиями:"
   ]
  },
  {
   "cell_type": "code",
   "execution_count": 6,
   "metadata": {
    "colab": {
     "base_uri": "https://localhost:8080/",
     "height": 125
    },
    "colab_type": "code",
    "collapsed": false,
    "id": "zYFaQr22Qkm8",
    "outputId": "470f41b8-23fe-4635-b023-ae8eb205dd95"
   },
   "outputs": [
    {
     "name": "stdout",
     "output_type": "stream",
     "text": [
      "{\"name\": \"First\", \"genre\": \"Entertaining\", \"num_pages\": 100, \"format_pages\": \"A4\", \"index_rareness\": 10, \"text\": \"Ну приветик!\", \"has_horoscope\": true, \"is_available_now\": true, \"last_user_name\": \"IRAAAAA\"}\n",
      "{\"name\": \"Cosmo2\", \"genre\": \"Entertaining\", \"num_pages\": 100, \"format_pages\": \"A4\", \"index_rareness\": 9, \"text\": \"Ну приветик!\", \"has_horoscope\": null, \"is_available_now\": null, \"last_user_name\": \"IRAAAAA\"}\n",
      "{\"name\": \"Onegin\", \"genre\": \"Drama\", \"num_pages\": 100, \"format_pages\": \"A2\", \"index_rareness\": 9, \"text\": \"Ну приветик! Onegin\", \"has_authors_preface\": true, \"has_authors_afterword\": false, \"is_available_now\": false, \"last_user_name\": \"Max\"}\n",
      "\n"
     ]
    }
   ],
   "source": [
    "with open(rare_editions_filepath, \"r\", encoding=\"utf-8\") as r:\n",
    "    print(r.read())"
   ]
  },
  {
   "cell_type": "markdown",
   "metadata": {
    "colab_type": "text",
    "id": "-hDUShllxzKQ"
   },
   "source": [
    "### Задача 1 [Размер объектов] (0 - 0.15 балла)  \n",
    "\n",
    "**Условие:** \n",
    "\n",
    "Написать функцию получения реального объема занимаемой объектом памяти объектом. \n",
    "\n",
    "\n",
    "1) Для int, str, list, tuple, dict **(0.05 балла)**\n",
    "\n",
    "2) Для всех типов **(+0.1 балла)**\n",
    "\n",
    "\n",
    "**Комментарий:**\n",
    "\n",
    "На занятиях не раз говорилось, что `sys.getsizeof` умеет находить размер простых объектов, но если речь идет об объектах, вроде list, то функция вернет не совсем то, что может ожидать разработчик, потому что список хранит указатели на объекты. \n",
    "\n",
    "*Пример:*\n",
    "```\n",
    "sys.getsizeof([]) == 64\n",
    "sys.getsizeof(['aaaaaaa']) == 72\n",
    "```\n",
    "Но\n",
    "```\n",
    "sys.getsizeof('aaaaaaa') == 56\n",
    "```\n"
   ]
  },
  {
   "cell_type": "code",
   "execution_count": 7,
   "metadata": {
    "collapsed": false
   },
   "outputs": [],
   "source": [
    "import sys\n",
    "\n",
    "\n",
    "def my_getsizeof(obj, measured=None):\n",
    "    '''\n",
    "    Calculates actual size of objects \n",
    "        \n",
    "        :param obj: object to measure size\n",
    "        :type obj: any type\n",
    "        \n",
    "        :param measured: set of measured ids\n",
    "        :type measured: set\n",
    "    \n",
    "        :obj_size: the size of object\n",
    "        :obj_size: int\n",
    "    '''\n",
    "\n",
    "    if measured is None:\n",
    "        measured = set()\n",
    "\n",
    "    obj_id = id(obj)\n",
    "    if obj_id in measured:\n",
    "        return 0\n",
    "\n",
    "    else:\n",
    "\n",
    "        obj_size = sys.getsizeof(obj)\n",
    "        measured.add(obj_id)\n",
    "\n",
    "        if not isinstance(obj, (bytes, bytearray, str)):\n",
    "\n",
    "            if isinstance(obj, dict):\n",
    "                obj_size += sum([my_getsizeof(value, measured) + my_getsizeof(key, measured) \\\n",
    "                             for value, key in zip(obj.values(), obj.keys())])\n",
    "\n",
    "            elif hasattr(obj, '__dict__'):\n",
    "                obj_size += my_getsizeof(obj.__dict__, measured)\n",
    "\n",
    "            elif hasattr(obj, '__iter__'):\n",
    "                obj_size += sum([my_getsizeof(i, measured) for i in obj])\n",
    "\n",
    "    return obj_size"
   ]
  },
  {
   "cell_type": "markdown",
   "metadata": {},
   "source": [
    "Примеры запуска функции:"
   ]
  },
  {
   "cell_type": "code",
   "execution_count": 8,
   "metadata": {
    "collapsed": false
   },
   "outputs": [
    {
     "name": "stdout",
     "output_type": "stream",
     "text": [
      "56\n",
      "128\n",
      "28\n",
      "208\n",
      "198\n",
      "539\n",
      "324\n",
      "1144\n"
     ]
    }
   ],
   "source": [
    "print(my_getsizeof('aaaaaaa'))\n",
    "print(my_getsizeof(['aaaaaaa']))\n",
    "print(my_getsizeof(2))\n",
    "print(my_getsizeof([1,3,5,7]))\n",
    "print(my_getsizeof(('12','sm',1.4)))\n",
    "print(my_getsizeof({'code1':'first', 'code2':'second', 'code3':3}))\n",
    "print(my_getsizeof(range(10)))\n",
    "print(my_getsizeof(cosmo))"
   ]
  },
  {
   "cell_type": "markdown",
   "metadata": {
    "colab_type": "text",
    "id": "QMEONEg5xzKR"
   },
   "source": [
    "### Задача 2 [Многочлены] (0.64 балла)\n",
    "\n",
    "**Условие:**\n",
    "\n",
    "Реализовать класс многочлена. Определить операции:\n",
    "\n",
    "1) *сложения* - **(0.02 балла)**\n",
    "\n",
    "2) *вычитания* - **(0.02 балла)**\n",
    "\n",
    "3) *умножения* - **(0.04 балла)**\n",
    "\n",
    "3a) *быстрого умножения* (алгоритм Карацубы или быстрое преобразование Фурье) - **(+0.25 балла)**\n",
    "\n",
    "4) *деления* - **(0.05 балла)**\n",
    "\n",
    "5) *возведения в степень* - **(0.02 балла)** | *возведения в степень* через быстрое возведение в степень за log - **(0.04 балла)**\n",
    "\n",
    "6) *представления многочлена в человеческом виде* - **(0.02 балла)**\n",
    "\n",
    "7) *дифференцирования* - **(0.05 балла)**\n",
    "\n",
    "8) *интегрирования* - **(0.05 балла)**\n",
    "\n",
    "9) Вызова многочлена как функции (вычисление значения в точке) - **(0.03 балла)**\n",
    "\n",
    "**Комментарии:**\n",
    "\n",
    "Для комплексных коэффициентов **(0.01 балла)** к каждому пункту.\n",
    "\n",
    "Операции с числами также должны работать."
   ]
  },
  {
   "cell_type": "code",
   "execution_count": 9,
   "metadata": {
    "colab": {},
    "colab_type": "code",
    "collapsed": false,
    "id": "Po9Oc4h-OlXN"
   },
   "outputs": [],
   "source": [
    "class Poly:\n",
    "    '''\n",
    "    An implementation of Polynomial class\n",
    "    '''\n",
    "\n",
    "    def __init__(self, *coeff):\n",
    "        '''\n",
    "        param coeff: the coeffecients of polynom are listed in order from 0 degree\n",
    "        type coeff: list of int, float, complex or iterator over int, float, complex\n",
    "        '''\n",
    "        if len(list(coeff)) == 0:\n",
    "            coeff = [0]\n",
    "\n",
    "        if hasattr(*coeff, '__iter__'):\n",
    "            self.coeff = list(*coeff)\n",
    "        else:\n",
    "            self.coeff = list(coeff)\n",
    "\n",
    "        for c in self.coeff:\n",
    "            if not isinstance(c, (int, float, complex)):\n",
    "                raise TypeError(\"Wrong number type for\", self.coeff)\n",
    "\n",
    "    def __repr__(self):\n",
    "        return \"Poly((\" + str(self.coeff)[1:-1] + \"))\"\n",
    "\n",
    "    def degree(self):\n",
    "        return len(self.coeff) - 1\n",
    "\n",
    "    def __call__(self, x):\n",
    "        res = 0\n",
    "        for i, coeff in enumerate(self.coeff):\n",
    "            res += coeff * (x**i)\n",
    "        return res\n",
    "\n",
    "    def add_zeros_to_array(self, array1, array2):\n",
    "        len_array1 = len(array1)\n",
    "        len_array2 = len(array2)\n",
    "        if len_array1 != len_array2:\n",
    "            diff_len = abs(len_array1 - len_array2)\n",
    "            if len_array1 > len_array2:\n",
    "                array2 += [0] * diff_len\n",
    "            else:\n",
    "                array1 += [0] * diff_len\n",
    "        return array1, array2\n",
    "\n",
    "    def sign_coef(self, coef, degree):\n",
    "        if isinstance(coef, complex):\n",
    "            if coef.real != 0:\n",
    "                return ' + ' + str(coef)\n",
    "            else:\n",
    "                return ' ' + str(coef)\n",
    "\n",
    "        if degree > 0 and coef == 1:\n",
    "            return ' + '\n",
    "        elif degree > 0 and coef == -1:\n",
    "            return ' - '\n",
    "        elif coef > 0:\n",
    "            return ' + ' + str(coef)\n",
    "        elif coef < 0:\n",
    "            return ' - ' + str(-coef)\n",
    "        else:\n",
    "            return ''\n",
    "\n",
    "    def x_in_degree(self, degree):\n",
    "        if degree >= 2:\n",
    "            return 'x^' + str(degree)\n",
    "        elif degree == 1:\n",
    "            return 'x'\n",
    "        elif degree == 0:\n",
    "            return ''\n",
    "\n",
    "    def check_complex_int(self, number):\n",
    "        if isinstance(number, complex) and number.imag == 0:\n",
    "            if int(number.real) == number.real:\n",
    "                number = int(number.real)\n",
    "            else:\n",
    "                number = number.real\n",
    "        return number\n",
    "\n",
    "    def __str__(self):\n",
    "        res = \"\"\n",
    "        degree = self.degree()\n",
    "\n",
    "        if degree == 0:\n",
    "            return str(*self.coeff)\n",
    "\n",
    "        all_coeffs = self.coeff[::-1]\n",
    "        coeff_0 = self.check_complex_int(all_coeffs[0])\n",
    "        count_zeros = 0\n",
    "\n",
    "        if coeff_0 != 0:\n",
    "\n",
    "            if coeff_0 == 1:\n",
    "                res += self.x_in_degree(degree)\n",
    "            elif coeff_0 == -1:\n",
    "                res += ' - ' + self.x_in_degree(degree)\n",
    "            else:\n",
    "                res += str(coeff_0) + self.x_in_degree(degree)\n",
    "        else:\n",
    "            count_zeros += 1\n",
    "\n",
    "        for i in range(1, len(all_coeffs)):\n",
    "            coeff = self.check_complex_int(all_coeffs[i])\n",
    "            if coeff == 0:\n",
    "                count_zeros += 1\n",
    "                continue\n",
    "            else:\n",
    "                res += self.sign_coef(\n",
    "                    coeff, degree - i) + self.x_in_degree(degree - i)\n",
    "\n",
    "        if count_zeros == degree + 1:\n",
    "            return '0'\n",
    "\n",
    "        return res.lstrip(' + ')\n",
    "\n",
    "    def __neg__(self):\n",
    "        return Poly([x * (-1) for x in self.coeff])\n",
    "\n",
    "    def __pos__(self):\n",
    "        return Poly(self.coeff)\n",
    "\n",
    "    def copy(self):\n",
    "        return Poly(self.coeff)\n",
    "\n",
    "    def __add__(self, other):\n",
    "\n",
    "        if isinstance(self, (int, float, complex)):\n",
    "            c1 = Poly([self]).coeff\n",
    "        else:\n",
    "            c1 = self.coeff\n",
    "\n",
    "        if isinstance(other, (int, float, complex)):\n",
    "            c2 = Poly([other]).coeff\n",
    "        else:\n",
    "            c2 = other.coeff\n",
    "\n",
    "        c1, c2 = self.add_zeros_to_array(c1, c2)\n",
    "\n",
    "        res = [sum(x) for x in zip(c1, c2)]\n",
    "        return Poly(res)\n",
    "\n",
    "    __radd__ = __add__\n",
    "\n",
    "    def __sub__(self, other):\n",
    "        return self + (-other)\n",
    "\n",
    "    def __rsub__(self, other):\n",
    "        return -self + other\n",
    "\n",
    "    def __mul__(self, other):\n",
    "        if isinstance(other, (int, float, complex)):\n",
    "            return Poly([x * other for x in self.coeff])\n",
    "\n",
    "        multipliers = [0] * (len(self.coeff) + len(other.coeff))\n",
    "        for i1, c1 in enumerate(self.coeff):\n",
    "            for i2, c2 in enumerate(other.coeff):\n",
    "                multipliers[i1 + i2] += c1 * c2\n",
    "        return Poly(multipliers)\n",
    "\n",
    "    __rmul__ = __mul__\n",
    "\n",
    "    def __pow__(self, power):\n",
    "        if not isinstance(power, int):\n",
    "            raise TypeError(\"Wrong number type for\", power)\n",
    "        if power < 0:\n",
    "            raise ValueError('power should nonnegative')\n",
    "\n",
    "        res = Poly((1))\n",
    "        for i in range(power):\n",
    "            res *= self\n",
    "        return res\n",
    "\n",
    "    def derivative(self):\n",
    "        derivatives = [i * c for i, c in enumerate(self.coeff)]\n",
    "        derivatives = derivatives[1:]\n",
    "        return Poly(derivatives)\n",
    "\n",
    "    def integrate(self, constant=0):\n",
    "        if not isinstance(constant, (int, float, complex)):\n",
    "            raise TypeError(\"Wrong number type for\", constant)\n",
    "\n",
    "        integrals = [c / (i + 1) for i, c in enumerate(self.coeff)]\n",
    "        return Poly([constant] + integrals)\n",
    "\n",
    "    def devide_by_number(self, number=1):\n",
    "        if not isinstance(number, (complex, int, float)):\n",
    "            raise TypeError(\"Wrong number type for\", number)\n",
    "        if number == 0:\n",
    "            raise ValueError(\"Can not devide by zero\")\n",
    "        return Poly([x / number for x in self.coeff])"
   ]
  },
  {
   "cell_type": "markdown",
   "metadata": {},
   "source": [
    "Примеры вызова:"
   ]
  },
  {
   "cell_type": "markdown",
   "metadata": {},
   "source": [
    "Генерация названий класса с аргументами:"
   ]
  },
  {
   "cell_type": "code",
   "execution_count": 10,
   "metadata": {
    "collapsed": false
   },
   "outputs": [
    {
     "name": "stdout",
     "output_type": "stream",
     "text": [
      "Poly((0))\n",
      "Poly((1))\n",
      "Poly((1.23))\n",
      "Poly((-1, 2.34, (1-4j), 7, 0))\n",
      "Poly((1, -2.04, 4.56, 7, 0, 0, 0))\n",
      "Poly((0, 1, 2, 3, 4, 5, 6, 7, 8, 9))\n",
      "Poly((0, 1, 4, 9, 16))\n"
     ]
    }
   ],
   "source": [
    "print(repr(Poly()))\n",
    "print(repr(Poly(1)))\n",
    "print(repr(Poly(1.23)))\n",
    "print(repr(Poly((-1, 2.34, 1-4j, 7, 0))))\n",
    "print(repr(Poly([1, -2.04, 4.56, 7, 0, 0, 0])))\n",
    "print(repr(Poly(range(10))))\n",
    "print(repr(Poly(map(lambda x: x ** 2, range(5)))))"
   ]
  },
  {
   "cell_type": "markdown",
   "metadata": {},
   "source": [
    "Представление многочлена в человеческом виде:"
   ]
  },
  {
   "cell_type": "code",
   "execution_count": 11,
   "metadata": {
    "collapsed": false
   },
   "outputs": [
    {
     "name": "stdout",
     "output_type": "stream",
     "text": [
      "0\n",
      "1.2\n",
      "x - 2\n",
      "-2x + (-1-3.1j)\n",
      "4x^3 + (-6-0.6j)x^2 + 1.23\n",
      "- 6x^2 + 1.23\n",
      "x^3 + 3x^2 + (1-2j)x - 1.23\n",
      "- x^9 - 2x^8 - 3x^7 - 4x^6 - 5x^5 - 6x^4 - 7x^3 - 8x^2 - 9x - 10\n",
      "10x^10 + 9x^9 + 8x^8 + 7x^7 + 6x^6 + 5x^5 + 4x^4 + 3x^3 + 2x^2 + x\n",
      "- x^2 + 0.0001x + 1.2345\n",
      "x^6 - x^4 + x^2 + 1\n"
     ]
    }
   ],
   "source": [
    "print(Poly())\n",
    "print(Poly(1.2))\n",
    "print(Poly([-2,1]))\n",
    "print(Poly((complex(-1,-3.1),complex(-2,0))))\n",
    "print(Poly([1.23,0,-6-0.6j,4]))\n",
    "print(Poly([1.23,0,-6,0]))\n",
    "print(Poly([-1.23,1-2j,3,1]))\n",
    "print(Poly(range(-10,1)))\n",
    "print(Poly(range(11)))\n",
    "print(Poly([1.2345, 0.0001, -1]))\n",
    "print(Poly([1, 0, 1, 0, -1, 0, 1]))"
   ]
  },
  {
   "cell_type": "markdown",
   "metadata": {},
   "source": [
    "Вызова многочлена как функции (вычисление значения в точке):"
   ]
  },
  {
   "cell_type": "code",
   "execution_count": 12,
   "metadata": {
    "colab": {
     "base_uri": "https://localhost:8080/",
     "height": 153
    },
    "colab_type": "code",
    "collapsed": false,
    "id": "WPOF0JrRQzEV",
    "outputId": "f40394e4-0bd2-49be-af3c-0b32c9eeb4c2"
   },
   "outputs": [
    {
     "name": "stdout",
     "output_type": "stream",
     "text": [
      "p(x) = (-3-6.1j)x^5 - 10x^4 + 4x^3 + (1-1.4j)x + 2 \n",
      "\n",
      "x = -5 ; p(x) = (2622+19069.5j)\n",
      "x = -4 ; p(x) = (254+6252j)\n",
      "x = -3 ; p(x) = (-190+1486.5j)\n",
      "x = -2 ; p(x) = (-96+198j)\n",
      "x = -1 ; p(x) = (-10+7.5j)\n",
      "x = 0 ; p(x) = (2+0j)\n",
      "x = 1 ; p(x) = (-6-7.5j)\n",
      "x = 2 ; p(x) = (-220-198j)\n",
      "x = 3 ; p(x) = (-1426-1486.5j)\n",
      "x = 4 ; p(x) = (-5370-6252j)\n",
      "x = 5 ; p(x) = (-15118-19069.5j)\n"
     ]
    }
   ],
   "source": [
    "p = Poly((2, 1 - 1.4j, 0, 4, -10, complex(-3, -6.1)))\n",
    "print('p(x) =', p, '\\n')\n",
    "\n",
    "for x in range(-5, 6):\n",
    "    print('x =', x, '; p(x) =', p(x))"
   ]
  },
  {
   "cell_type": "markdown",
   "metadata": {},
   "source": [
    "Дифференцирование:"
   ]
  },
  {
   "cell_type": "code",
   "execution_count": 13,
   "metadata": {
    "collapsed": false
   },
   "outputs": [
    {
     "name": "stdout",
     "output_type": "stream",
     "text": [
      "p(x) = -55x^5 + 4x^3 + (-3+2j)x^2 + 2x + 1\n",
      "dp(x)/dx = -275x^4 + 12x^2 + (-6+4j)x + 2 \n",
      "\n",
      "p(x) = 3x^2 + 2x + (1-1j)\n",
      "dp(x)/dx = 6x + 2 \n",
      "\n"
     ]
    }
   ],
   "source": [
    "p_list = [Poly((1, 2, -3+2j, 4, 0, -55)), Poly((1-1j, 2, 3))] \n",
    "\n",
    "for p in p_list:\n",
    "    print('p(x) =', p)\n",
    "    print('dp(x)/dx =', p.derivative(), '\\n')"
   ]
  },
  {
   "cell_type": "markdown",
   "metadata": {},
   "source": [
    "Интегрирование:"
   ]
  },
  {
   "cell_type": "code",
   "execution_count": 14,
   "metadata": {
    "collapsed": false
   },
   "outputs": [
    {
     "name": "stdout",
     "output_type": "stream",
     "text": [
      "p(x) = -9x^5 + 6x^3 + (1-2j)x + 1\n",
      "integral p(x) = -1.5x^6 + 1.5x^4 + (0.5-1j)x^2 + x \n",
      "\n",
      "p(x) = 3x^2 + 2x + (1-1j)\n",
      "integral p(x) = x^3 + x^2 + (1-1j)x \n",
      "\n"
     ]
    }
   ],
   "source": [
    "p_list = [Poly((1, 1-2j, 0, 6, 0, -9)), Poly((1-1j, 2, 3))] \n",
    "\n",
    "for p in p_list:\n",
    "    print('p(x) =', p)\n",
    "    print('integral p(x) =', p.integrate(0), '\\n')"
   ]
  },
  {
   "cell_type": "markdown",
   "metadata": {},
   "source": [
    "Сложение:"
   ]
  },
  {
   "cell_type": "code",
   "execution_count": 15,
   "metadata": {
    "collapsed": false
   },
   "outputs": [
    {
     "name": "stdout",
     "output_type": "stream",
     "text": [
      "A + (-A) = 0\n",
      "A + B = 4x^4 - 2x^3 + 2x^2 + (3.34-9j)x + 1.23\n",
      "A + C = 2x^6 + 4x^4 + 3x^3 + 2x^2 + x\n",
      "B + C = 2x^6 - 5x^3 + (2.34-9j)x + 1.23\n",
      "A + B + C 2x^6 + 4x^4 - 2x^3 + 2x^2 + (3.34-9j)x + 1.23\n",
      "3 + A = 4x^4 + 3x^3 + 2x^2 + x + 3\n",
      "A + 3 = 4x^4 + 3x^3 + 2x^2 + x + 3\n",
      "2.1j + B = - 5x^3 + (2.34-9j)x + (1.23+2.1j)\n",
      "B + 2.1j = - 5x^3 + (2.34-9j)x + (1.23+2.1j)\n",
      "A += 1: A = 4x^4 + 3x^3 + 2x^2 + x + 1\n",
      "B += 1.23j, C += B + A: C = 2x^6 + 4x^4 - 2x^3 + 2x^2 + (3.34-9j)x + (2.23+1.23j)\n"
     ]
    }
   ],
   "source": [
    "A = Poly(range(5))\n",
    "B = Poly((1.23, 2.34 - 9j, 0, -5))\n",
    "C = Poly((0, 0, 0, 0, 0, 0, 2))\n",
    "\n",
    "print('A + (-A) =', A + (-A))\n",
    "print('A + B =', A + B)\n",
    "print('A + C =', A + C)\n",
    "print('B + C =', B + C)\n",
    "print('A + B + C', A + B + C)\n",
    "print('3 + A =', 3 + A)\n",
    "print('A + 3 =', A + 3)\n",
    "print('2.1j + B =', 2.1j + B)\n",
    "print('B + 2.1j =', B + 2.1j)\n",
    "A += 1\n",
    "print('A += 1: A =', A)\n",
    "B += 1.23j\n",
    "C += B + A\n",
    "print('B += 1.23j, C += B + A: C =', C)"
   ]
  },
  {
   "cell_type": "markdown",
   "metadata": {},
   "source": [
    "Вычитание:"
   ]
  },
  {
   "cell_type": "code",
   "execution_count": 16,
   "metadata": {
    "colab": {
     "base_uri": "https://localhost:8080/",
     "height": 221
    },
    "colab_type": "code",
    "collapsed": false,
    "id": "vSf1JBExZ2vn",
    "outputId": "41a75b77-da06-4656-a5e0-6981ee4cd7c1"
   },
   "outputs": [
    {
     "name": "stdout",
     "output_type": "stream",
     "text": [
      "A - (+A) = 0\n",
      "A - B = 4x^4 + 8x^3 + 2x^2 + (-1+4j)x - 1.23\n",
      "A - C = -2x^6 + 4x^4 + 3x^3 + 2x^2 + x\n",
      "B - C = -2x^6 - 5x^3 + (2-4j)x + 1.23\n",
      "A - B + C = 2x^6 + 4x^4 + 8x^3 + 2x^2 + (-1+4j)x - 1.23\n",
      "3 - A = - 4x^4 - 3x^3 - 2x^2 - x + 3\n",
      "A - 3 = 4x^4 + 3x^3 + 2x^2 + x - 3\n",
      "2.1 - B = 5x^3 + (-2+4j)x + (-1.23+2.1j)\n",
      "B - 2.1 = - 5x^3 + (2-4j)x + (1.23-2.1j)\n",
      "A -= 1, B -= 1.23, C -= B - A: C = 2x^6 + 4x^4 + 8x^3 + 2x^2 + (-1+4j)x - 1.0\n"
     ]
    }
   ],
   "source": [
    "A = Poly(range(5))\n",
    "B = Poly((1.23, 2-4j, 0, -5))\n",
    "C = Poly((0, 0, 0, 0, 0, 0, 2))\n",
    "\n",
    "print('A - (+A) =', A - (+A))\n",
    "print('A - B =', A - B)\n",
    "print('A - C =', A - C)\n",
    "print('B - C =', B - C)\n",
    "print('A - B + C =', A - B + C)\n",
    "print('3 - A =', 3 - A)\n",
    "print('A - 3 =', A - 3)\n",
    "print('2.1 - B =', 2.1j - B)\n",
    "print('B - 2.1 =', B - 2.1j)\n",
    "A -= 1\n",
    "B -= 1.23\n",
    "C -= B - A\n",
    "print('A -= 1, B -= 1.23, C -= B - A: C =', C)"
   ]
  },
  {
   "cell_type": "markdown",
   "metadata": {},
   "source": [
    "Умножение:"
   ]
  },
  {
   "cell_type": "code",
   "execution_count": 17,
   "metadata": {
    "colab": {
     "base_uri": "https://localhost:8080/",
     "height": 238
    },
    "colab_type": "code",
    "collapsed": false,
    "id": "YrqySJKxF-km",
    "outputId": "7b0e1639-eba4-4521-e678-094fa4e3c495"
   },
   "outputs": [
    {
     "name": "stdout",
     "output_type": "stream",
     "text": [
      "A * B = - 20x^7 - 15x^6 + (6-38j)x^5 + (11.92-28.5j)x^4 + (11.69-19j)x^3 + (6.46-9.5j)x^2 + 1.23x\n",
      "A * C = (8+4j)x^10 + (6+3j)x^9 + (4+2j)x^8 + (2+1j)x^7\n",
      "B * C = (-10-5j)x^9 + (17.5-15j)x^7 + (2.46+1.23j)x^6\n",
      "A * (+A) = 16x^8 + 24x^7 + 25x^6 + 20x^5 + 10x^4 + 4x^3 + x^2\n",
      "A * B * C = (-40-20j)x^13 + (-30-15j)x^12 + (50-70j)x^11 + (52.34-45.08j)x^10 + (42.379999999999995-26.310000000000002j)x^9 + (22.42-12.54j)x^8 + (2.46+1.23j)x^7\n",
      "3 * A = 12x^4 + 9x^3 + 6x^2 + 3x\n",
      "A * 3 = 12x^4 + 9x^3 + 6x^2 + 3x\n",
      "2.1 * B = (-5-10.5j)x^3 + (23.95-1.0999999999999996j)x + (1.23+2.583j)\n",
      "B * 2.1 = (-5-10.5j)x^3 + (23.95-1.0999999999999996j)x + (1.23+2.583j)\n",
      "A *= 1, B *= 1.23, C *= B * A: C = (-49.2-24.6j)x^13 + (-36.900000000000006-18.450000000000003j)x^12 + (61.5-86.10000000000001j)x^11 + (64.37819999999999-55.4484j)x^10 + (52.127399999999994-32.3613j)x^9 + (27.5766-15.4242j)x^8 + (3.0258+1.5129j)x^7\n",
      "7 * X*X*X*X*X*X*X*X*X*X - (3+6j) * X*X*X*X*X + (X - 3) * (2 - X * 5 * X) =  7x^10 + (-3-6j)x^5 - 5x^3 + 15x^2 + 2x - 6\n"
     ]
    }
   ],
   "source": [
    "X = Poly((0, 1))\n",
    "A = Poly(range(5))\n",
    "B = Poly((1.23, (4 - 9.5j), 0, -5))\n",
    "C = Poly((0, 0, 0, 0, 0, 0, 2 + 1j))\n",
    "\n",
    "print('A * B =', A * B)\n",
    "print('A * C =', A * C)\n",
    "print('B * C =', B * C)\n",
    "print('A * (+A) =', A * (+A))\n",
    "print('A * B * C =', A * B * C)\n",
    "print('3 * A =', 3 * A)\n",
    "print('A * 3 =', A * 3)\n",
    "print('2.1 * B =', (1 + 2.1j) * B)\n",
    "print('B * 2.1 =', B * (1 + 2.1j))\n",
    "A *= 1\n",
    "B *= 1.23\n",
    "C *= B * A\n",
    "print('A *= 1, B *= 1.23, C *= B * A: C =', C)\n",
    "print(\n",
    "    '7 * X*X*X*X*X*X*X*X*X*X - (3+6j) * X*X*X*X*X + (X - 3) * (2 - X * 5 * X) = ',\n",
    "    7 * X * X * X * X * X * X * X * X * X * X - (3 + 6j) * X * X * X * X * X +\n",
    "    (X - 3) * (2 - X * 5 * X))"
   ]
  },
  {
   "cell_type": "markdown",
   "metadata": {},
   "source": [
    "Возведение в степень:"
   ]
  },
  {
   "cell_type": "code",
   "execution_count": 18,
   "metadata": {
    "colab": {
     "base_uri": "https://localhost:8080/",
     "height": 187
    },
    "colab_type": "code",
    "collapsed": false,
    "id": "SfIt4gBVGWBo",
    "outputId": "e70fca89-86eb-4e9e-dfde-2a4468b73e12"
   },
   "outputs": [
    {
     "name": "stdout",
     "output_type": "stream",
     "text": [
      "A ** 0 = 1\n",
      "A ** 1 = x + 1\n",
      "A ** 2 = x^2 + 2x + 1\n",
      "A ** 10 = x^10 + 10x^9 + 45x^8 + 120x^7 + 210x^6 + 252x^5 + 210x^4 + 120x^3 + 45x^2 + 10x + 1\n",
      "B ** 100 = 1267650600228229401496703205376\n",
      "C**3 = - 8x^36 + (12-28.08j)x^32 + (26.853599999999993+28.08j)x^28 + (-3.4267999999999965+5.792903999999998j)x^24 + (-12+28.08j)x^20 + (-13.426799999999997-14.04j)x^16 - 6x^12 + (3-7.02j)x^8 + 1\n",
      "7 * X**10 - 3 * X**5 + (X - 3) * (2 - 5 * X**2) = 7x^10 - 3x^5 - 5x^3 + 15x^2 + 2x - 6\n"
     ]
    }
   ],
   "source": [
    "X = Poly((0, 1))\n",
    "A = Poly((1, 1))\n",
    "B = Poly((2j))\n",
    "C = Poly((1, 0, 0, 0, 0, 0, 0, 0, 1 - 2.34j, 0, 0, 0, -2))\n",
    "\n",
    "print('A ** 0 =', A**0)\n",
    "print('A ** 1 =', A**1)\n",
    "print('A ** 2 =', A**2)\n",
    "print('A ** 10 =', A**10)\n",
    "print('B ** 100 =', B**100)\n",
    "print('C**3 =', C**3)\n",
    "print('7 * X**10 - 3 * X**5 + (X - 3) * (2 - 5 * X**2) =',\n",
    "      7 * X**10 - 3 * X**5 + (X - 3) * (2 - 5 * X**2))"
   ]
  },
  {
   "cell_type": "markdown",
   "metadata": {},
   "source": [
    "Деление на число:"
   ]
  },
  {
   "cell_type": "code",
   "execution_count": 19,
   "metadata": {
    "collapsed": false
   },
   "outputs": [
    {
     "name": "stdout",
     "output_type": "stream",
     "text": [
      "A / 2 = - x^12 + (0.5-1.17j)x^8 + 0.5\n",
      "A / (1+10j) = (-0.019801980198019802+0.19801980198019803j)x^12 + (-0.22178217821782176-0.12217821782178218j)x^8 + (0.009900990099009901-0.09900990099009901j)\n",
      "A / (-100) = 0.02x^12 + (-0.01+0.023399999999999997j)x^8 - 0.01\n"
     ]
    },
    {
     "ename": "ValueError",
     "evalue": "Can not devide by zero",
     "output_type": "error",
     "traceback": [
      "\u001b[0;31m---------------------------------------------------------------------------\u001b[0m",
      "\u001b[0;31mValueError\u001b[0m                                Traceback (most recent call last)",
      "\u001b[0;32m<ipython-input-19-8ab2af8350ab>\u001b[0m in \u001b[0;36m<module>\u001b[0;34m()\u001b[0m\n\u001b[1;32m      4\u001b[0m \u001b[0mprint\u001b[0m\u001b[0;34m(\u001b[0m\u001b[0;34m'A / (1+10j) ='\u001b[0m\u001b[0;34m,\u001b[0m \u001b[0mA\u001b[0m\u001b[0;34m.\u001b[0m\u001b[0mdevide_by_number\u001b[0m\u001b[0;34m(\u001b[0m\u001b[0;36m1\u001b[0m\u001b[0;34m+\u001b[0m\u001b[0;36m10j\u001b[0m\u001b[0;34m)\u001b[0m\u001b[0;34m)\u001b[0m\u001b[0;34m\u001b[0m\u001b[0;34m\u001b[0m\u001b[0m\n\u001b[1;32m      5\u001b[0m \u001b[0mprint\u001b[0m\u001b[0;34m(\u001b[0m\u001b[0;34m'A / (-100) ='\u001b[0m\u001b[0;34m,\u001b[0m \u001b[0mA\u001b[0m\u001b[0;34m.\u001b[0m\u001b[0mdevide_by_number\u001b[0m\u001b[0;34m(\u001b[0m\u001b[0;34m-\u001b[0m\u001b[0;36m100\u001b[0m\u001b[0;34m)\u001b[0m\u001b[0;34m)\u001b[0m\u001b[0;34m\u001b[0m\u001b[0;34m\u001b[0m\u001b[0m\n\u001b[0;32m----> 6\u001b[0;31m \u001b[0mprint\u001b[0m\u001b[0;34m(\u001b[0m\u001b[0;34m'A / 0 ='\u001b[0m\u001b[0;34m,\u001b[0m \u001b[0mA\u001b[0m\u001b[0;34m.\u001b[0m\u001b[0mdevide_by_number\u001b[0m\u001b[0;34m(\u001b[0m\u001b[0;36m0\u001b[0m\u001b[0;34m)\u001b[0m\u001b[0;34m)\u001b[0m\u001b[0;34m\u001b[0m\u001b[0;34m\u001b[0m\u001b[0m\n\u001b[0m",
      "\u001b[0;32m<ipython-input-9-e347bd87575c>\u001b[0m in \u001b[0;36mdevide_by_number\u001b[0;34m(self, number)\u001b[0m\n\u001b[1;32m    187\u001b[0m             \u001b[0;32mraise\u001b[0m \u001b[0mTypeError\u001b[0m\u001b[0;34m(\u001b[0m\u001b[0;34m\"Wrong number type for\"\u001b[0m\u001b[0;34m,\u001b[0m \u001b[0mnumber\u001b[0m\u001b[0;34m)\u001b[0m\u001b[0;34m\u001b[0m\u001b[0;34m\u001b[0m\u001b[0m\n\u001b[1;32m    188\u001b[0m         \u001b[0;32mif\u001b[0m \u001b[0mnumber\u001b[0m \u001b[0;34m==\u001b[0m \u001b[0;36m0\u001b[0m\u001b[0;34m:\u001b[0m\u001b[0;34m\u001b[0m\u001b[0;34m\u001b[0m\u001b[0m\n\u001b[0;32m--> 189\u001b[0;31m             \u001b[0;32mraise\u001b[0m \u001b[0mValueError\u001b[0m\u001b[0;34m(\u001b[0m\u001b[0;34m\"Can not devide by zero\"\u001b[0m\u001b[0;34m)\u001b[0m\u001b[0;34m\u001b[0m\u001b[0;34m\u001b[0m\u001b[0m\n\u001b[0m\u001b[1;32m    190\u001b[0m         \u001b[0;32mreturn\u001b[0m \u001b[0mPoly\u001b[0m\u001b[0;34m(\u001b[0m\u001b[0;34m[\u001b[0m\u001b[0mx\u001b[0m \u001b[0;34m/\u001b[0m \u001b[0mnumber\u001b[0m \u001b[0;32mfor\u001b[0m \u001b[0mx\u001b[0m \u001b[0;32min\u001b[0m \u001b[0mself\u001b[0m\u001b[0;34m.\u001b[0m\u001b[0mcoeff\u001b[0m\u001b[0;34m]\u001b[0m\u001b[0;34m)\u001b[0m\u001b[0;34m\u001b[0m\u001b[0;34m\u001b[0m\u001b[0m\n",
      "\u001b[0;31mValueError\u001b[0m: Can not devide by zero"
     ]
    }
   ],
   "source": [
    "A = Poly((1, 0, 0, 0, 0, 0, 0, 0, 1 - 2.34j, 0, 0, 0, -2))\n",
    "\n",
    "print('A / 2 =', A.devide_by_number(2))\n",
    "print('A / (1+10j) =', A.devide_by_number(1+10j))\n",
    "print('A / (-100) =', A.devide_by_number(-100))\n",
    "print('A / 0 =', A.devide_by_number(0))"
   ]
  },
  {
   "cell_type": "markdown",
   "metadata": {
    "colab_type": "text",
    "id": "URVDKphNxzKT"
   },
   "source": [
    "### Задача 3 [Аналог range] (0.05 балла)\n",
    "\n",
    "**Условие:**\n",
    "\n",
    "Реализуйте итератор с поведением, аналогичным range."
   ]
  },
  {
   "cell_type": "code",
   "execution_count": 20,
   "metadata": {
    "colab": {
     "base_uri": "https://localhost:8080/",
     "height": 34
    },
    "colab_type": "code",
    "collapsed": false,
    "id": "jZqG_PnIoCaR",
    "outputId": "672189ba-8759-4512-f69f-169db9762941"
   },
   "outputs": [],
   "source": [
    "def my_range(*args):\n",
    "    '''\n",
    "    An analog of function range\n",
    "    '''\n",
    "    for arg in args:\n",
    "        if not isinstance(arg, int):\n",
    "            raise ValueError(\"Wrong number type for %s \" % arg)\n",
    "            \n",
    "    if len(args) == 1:\n",
    "        start = 0\n",
    "        stop = args[0] \n",
    "        step = 1\n",
    "        \n",
    "    elif len(args) == 2:\n",
    "        start = args[0] \n",
    "        stop = args[1] \n",
    "        step = 1 \n",
    "        \n",
    "    elif len(args) == 3: \n",
    "        start = args[0] \n",
    "        stop = args[1] \n",
    "        step = args[2] \n",
    "        \n",
    "    else:\n",
    "        raise ValueError(\"Wrong number of arguments\")\n",
    "\n",
    "    i = start\n",
    "    \n",
    "    if step > 0:\n",
    "        while i < stop:\n",
    "            yield i\n",
    "            i += step\n",
    "    else:\n",
    "        while i > stop:\n",
    "            yield i\n",
    "            i += step"
   ]
  },
  {
   "cell_type": "markdown",
   "metadata": {},
   "source": [
    "Примеры запусков:"
   ]
  },
  {
   "cell_type": "code",
   "execution_count": 21,
   "metadata": {
    "collapsed": false
   },
   "outputs": [
    {
     "name": "stdout",
     "output_type": "stream",
     "text": [
      "[-7, -6, -5, -4]\n",
      "[1, 3, 5, 7, 9]\n",
      "[]\n",
      "[]\n"
     ]
    },
    {
     "ename": "ValueError",
     "evalue": "Wrong number type for 23 ",
     "output_type": "error",
     "traceback": [
      "\u001b[0;31m---------------------------------------------------------------------------\u001b[0m",
      "\u001b[0;31mValueError\u001b[0m                                Traceback (most recent call last)",
      "\u001b[0;32m<ipython-input-21-9d5acca4da6b>\u001b[0m in \u001b[0;36m<module>\u001b[0;34m()\u001b[0m\n\u001b[1;32m      3\u001b[0m \u001b[0mprint\u001b[0m\u001b[0;34m(\u001b[0m\u001b[0mlist\u001b[0m\u001b[0;34m(\u001b[0m\u001b[0mmy_range\u001b[0m\u001b[0;34m(\u001b[0m\u001b[0;36m0\u001b[0m\u001b[0;34m,\u001b[0m \u001b[0;36m7\u001b[0m\u001b[0;34m,\u001b[0m\u001b[0;34m-\u001b[0m\u001b[0;36m1\u001b[0m\u001b[0;34m)\u001b[0m\u001b[0;34m)\u001b[0m\u001b[0;34m)\u001b[0m\u001b[0;34m\u001b[0m\u001b[0;34m\u001b[0m\u001b[0m\n\u001b[1;32m      4\u001b[0m \u001b[0mprint\u001b[0m\u001b[0;34m(\u001b[0m\u001b[0mlist\u001b[0m\u001b[0;34m(\u001b[0m\u001b[0mmy_range\u001b[0m\u001b[0;34m(\u001b[0m\u001b[0;34m-\u001b[0m\u001b[0;36m7\u001b[0m\u001b[0;34m)\u001b[0m\u001b[0;34m)\u001b[0m\u001b[0;34m)\u001b[0m\u001b[0;34m\u001b[0m\u001b[0;34m\u001b[0m\u001b[0m\n\u001b[0;32m----> 5\u001b[0;31m \u001b[0mprint\u001b[0m\u001b[0;34m(\u001b[0m\u001b[0mlist\u001b[0m\u001b[0;34m(\u001b[0m\u001b[0mmy_range\u001b[0m\u001b[0;34m(\u001b[0m\u001b[0;34m-\u001b[0m\u001b[0;36m7\u001b[0m\u001b[0;34m,\u001b[0m \u001b[0;34m'23'\u001b[0m\u001b[0;34m)\u001b[0m\u001b[0;34m)\u001b[0m\u001b[0;34m)\u001b[0m\u001b[0;34m\u001b[0m\u001b[0;34m\u001b[0m\u001b[0m\n\u001b[0m",
      "\u001b[0;32m<ipython-input-20-8fd784d522a6>\u001b[0m in \u001b[0;36mmy_range\u001b[0;34m(*args)\u001b[0m\n\u001b[1;32m      5\u001b[0m     \u001b[0;32mfor\u001b[0m \u001b[0marg\u001b[0m \u001b[0;32min\u001b[0m \u001b[0margs\u001b[0m\u001b[0;34m:\u001b[0m\u001b[0;34m\u001b[0m\u001b[0;34m\u001b[0m\u001b[0m\n\u001b[1;32m      6\u001b[0m         \u001b[0;32mif\u001b[0m \u001b[0;32mnot\u001b[0m \u001b[0misinstance\u001b[0m\u001b[0;34m(\u001b[0m\u001b[0marg\u001b[0m\u001b[0;34m,\u001b[0m \u001b[0mint\u001b[0m\u001b[0;34m)\u001b[0m\u001b[0;34m:\u001b[0m\u001b[0;34m\u001b[0m\u001b[0;34m\u001b[0m\u001b[0m\n\u001b[0;32m----> 7\u001b[0;31m             \u001b[0;32mraise\u001b[0m \u001b[0mValueError\u001b[0m\u001b[0;34m(\u001b[0m\u001b[0;34m\"Wrong number type for %s \"\u001b[0m \u001b[0;34m%\u001b[0m \u001b[0marg\u001b[0m\u001b[0;34m)\u001b[0m\u001b[0;34m\u001b[0m\u001b[0;34m\u001b[0m\u001b[0m\n\u001b[0m\u001b[1;32m      8\u001b[0m \u001b[0;34m\u001b[0m\u001b[0m\n\u001b[1;32m      9\u001b[0m     \u001b[0;32mif\u001b[0m \u001b[0mlen\u001b[0m\u001b[0;34m(\u001b[0m\u001b[0margs\u001b[0m\u001b[0;34m)\u001b[0m \u001b[0;34m==\u001b[0m \u001b[0;36m1\u001b[0m\u001b[0;34m:\u001b[0m\u001b[0;34m\u001b[0m\u001b[0;34m\u001b[0m\u001b[0m\n",
      "\u001b[0;31mValueError\u001b[0m: Wrong number type for 23 "
     ]
    }
   ],
   "source": [
    "print(list(my_range(-7,-3)))\n",
    "print(list(my_range(1, 10, 2)))\n",
    "print(list(my_range(0, 7,-1)))\n",
    "print(list(my_range(-7)))\n",
    "print(list(my_range(-7, '23')))"
   ]
  },
  {
   "cell_type": "markdown",
   "metadata": {
    "colab_type": "text",
    "id": "Yt7PMXJtxzKV"
   },
   "source": [
    "### Задача 4 [Primary Key] (0.05 балла)\n",
    "\n",
    "**Условие:**\n",
    "\n",
    "С помощью механизма дескрипторов реализуйте Primary Key - свойства первичного ключа из PostgreSQL."
   ]
  },
  {
   "cell_type": "code",
   "execution_count": 22,
   "metadata": {
    "colab": {},
    "colab_type": "code",
    "collapsed": true,
    "id": "0a1iP27taSeF"
   },
   "outputs": [],
   "source": [
    "class PrimaryKey:\n",
    "    '''\n",
    "    A discriptor for class Primary Key\n",
    "    '''\n",
    "    def __init__(self, name):\n",
    "        self.name = name\n",
    "        self.primarykey = []\n",
    "        self.primarykey_len = None\n",
    "        self.primarykey_types = []\n",
    "        \n",
    "    def __get__(self, instance, owner):\n",
    "        return self.primarykey\n",
    "\n",
    "    def check_primarykey_attrs(self, new_key):\n",
    "\n",
    "        if not isinstance(new_key, (int, float, str, list)):\n",
    "            raise TypeError(\"Wrong type for PrimaryKey\")\n",
    "        \n",
    "        newkey_len = len(new_key) if isinstance(new_key, list) else 1\n",
    "        \n",
    "        newkey_types = []\n",
    "\n",
    "        if newkey_len > 1:\n",
    "            for subkey in new_key:\n",
    "                newkey_types.append(type(subkey))\n",
    "        else: \n",
    "            if type(new_key) == list:\n",
    "                newkey_types.append(type(new_key[0]))\n",
    "            else:\n",
    "                newkey_types = type(new_key)\n",
    "\n",
    "        if len(self.primarykey) == 0:\n",
    "            self.primarykey_len = newkey_len\n",
    "            self.primarykey_types = newkey_types\n",
    "\n",
    "        if newkey_len != self.primarykey_len:\n",
    "            raise ValueError(\"PrimaryKey should contain the same number of elements ({})\".format(self.primarykey_len))\n",
    "        \n",
    "        if newkey_types != self.primarykey_types:\n",
    "            raise TypeError(\"PrimaryKey should be of type {}\".format(self.primarykey_types))\n",
    "\n",
    "    \n",
    "    def __set__(self, instance, new_key):\n",
    "\n",
    "        self.check_primarykey_attrs(new_key)\n",
    "                    \n",
    "        if new_key not in self.primarykey:\n",
    "            if new_key != None:\n",
    "                instance.__dict__[self.name] = new_key\n",
    "                self.primarykey.append(new_key)\n",
    "            else:\n",
    "                raise ValueError(\"PrimaryKey should not be None\")\n",
    "        else:\n",
    "            raise ValueError(\"PrimaryKey should have unique values\")\n",
    "                \n",
    "    def __delete__(self, instance):\n",
    "        self.primarykey.remove(instance.__dict__[self.name])\n",
    "        del instance"
   ]
  },
  {
   "cell_type": "code",
   "execution_count": 23,
   "metadata": {
    "colab": {
     "base_uri": "https://localhost:8080/",
     "height": 426
    },
    "colab_type": "code",
    "collapsed": false,
    "id": "LcaW3D4Ebvq1",
    "outputId": "52cb2327-e0a3-4bc7-c159-3f3fdaa795b2"
   },
   "outputs": [
    {
     "name": "stdout",
     "output_type": "stream",
     "text": [
      "[2, '2']\n",
      "[3, '5']\n",
      "[1, '4']\n"
     ]
    },
    {
     "ename": "ValueError",
     "evalue": "PrimaryKey should have unique values",
     "output_type": "error",
     "traceback": [
      "\u001b[0;31m---------------------------------------------------------------------------\u001b[0m",
      "\u001b[0;31mValueError\u001b[0m                                Traceback (most recent call last)",
      "\u001b[0;32m<ipython-input-23-219867aeb092>\u001b[0m in \u001b[0;36m<module>\u001b[0;34m()\u001b[0m\n\u001b[1;32m     23\u001b[0m \u001b[0;32mdel\u001b[0m \u001b[0my2\u001b[0m\u001b[0;34m\u001b[0m\u001b[0;34m\u001b[0m\u001b[0m\n\u001b[1;32m     24\u001b[0m \u001b[0;34m\u001b[0m\u001b[0m\n\u001b[0;32m---> 25\u001b[0;31m \u001b[0my4\u001b[0m \u001b[0;34m=\u001b[0m \u001b[0mTableWithTwoColumnsPrimaryField\u001b[0m\u001b[0;34m(\u001b[0m\u001b[0;34m[\u001b[0m\u001b[0;36m2\u001b[0m\u001b[0;34m,\u001b[0m\u001b[0;34m'2'\u001b[0m\u001b[0;34m]\u001b[0m\u001b[0;34m,\u001b[0m \u001b[0;34m\"two 2\"\u001b[0m\u001b[0;34m)\u001b[0m\u001b[0;34m\u001b[0m\u001b[0;34m\u001b[0m\u001b[0m\n\u001b[0m",
      "\u001b[0;32m<ipython-input-23-219867aeb092>\u001b[0m in \u001b[0;36m__init__\u001b[0;34m(self, primarykey, column)\u001b[0m\n\u001b[1;32m      6\u001b[0m \u001b[0;34m\u001b[0m\u001b[0m\n\u001b[1;32m      7\u001b[0m     \u001b[0;32mdef\u001b[0m \u001b[0m__init__\u001b[0m\u001b[0;34m(\u001b[0m\u001b[0mself\u001b[0m\u001b[0;34m,\u001b[0m \u001b[0mprimarykey\u001b[0m\u001b[0;34m,\u001b[0m \u001b[0mcolumn\u001b[0m\u001b[0;34m)\u001b[0m\u001b[0;34m:\u001b[0m\u001b[0;34m\u001b[0m\u001b[0;34m\u001b[0m\u001b[0m\n\u001b[0;32m----> 8\u001b[0;31m         \u001b[0mself\u001b[0m\u001b[0;34m.\u001b[0m\u001b[0mprimarykeycolumn\u001b[0m \u001b[0;34m=\u001b[0m \u001b[0mprimarykey\u001b[0m\u001b[0;34m\u001b[0m\u001b[0;34m\u001b[0m\u001b[0m\n\u001b[0m\u001b[1;32m      9\u001b[0m         \u001b[0mself\u001b[0m\u001b[0;34m.\u001b[0m\u001b[0mcolumn\u001b[0m \u001b[0;34m=\u001b[0m \u001b[0mcolumn\u001b[0m\u001b[0;34m\u001b[0m\u001b[0;34m\u001b[0m\u001b[0m\n\u001b[1;32m     10\u001b[0m \u001b[0;34m\u001b[0m\u001b[0m\n",
      "\u001b[0;32m<ipython-input-22-b45148aeba2f>\u001b[0m in \u001b[0;36m__set__\u001b[0;34m(self, instance, new_key)\u001b[0m\n\u001b[1;32m     52\u001b[0m                 \u001b[0;32mraise\u001b[0m \u001b[0mValueError\u001b[0m\u001b[0;34m(\u001b[0m\u001b[0;34m\"PrimaryKey should not be None\"\u001b[0m\u001b[0;34m)\u001b[0m\u001b[0;34m\u001b[0m\u001b[0;34m\u001b[0m\u001b[0m\n\u001b[1;32m     53\u001b[0m         \u001b[0;32melse\u001b[0m\u001b[0;34m:\u001b[0m\u001b[0;34m\u001b[0m\u001b[0;34m\u001b[0m\u001b[0m\n\u001b[0;32m---> 54\u001b[0;31m             \u001b[0;32mraise\u001b[0m \u001b[0mValueError\u001b[0m\u001b[0;34m(\u001b[0m\u001b[0;34m\"PrimaryKey should have unique values\"\u001b[0m\u001b[0;34m)\u001b[0m\u001b[0;34m\u001b[0m\u001b[0;34m\u001b[0m\u001b[0m\n\u001b[0m\u001b[1;32m     55\u001b[0m \u001b[0;34m\u001b[0m\u001b[0m\n\u001b[1;32m     56\u001b[0m     \u001b[0;32mdef\u001b[0m \u001b[0m__delete__\u001b[0m\u001b[0;34m(\u001b[0m\u001b[0mself\u001b[0m\u001b[0;34m,\u001b[0m \u001b[0minstance\u001b[0m\u001b[0;34m)\u001b[0m\u001b[0;34m:\u001b[0m\u001b[0;34m\u001b[0m\u001b[0;34m\u001b[0m\u001b[0m\n",
      "\u001b[0;31mValueError\u001b[0m: PrimaryKey should have unique values"
     ]
    }
   ],
   "source": [
    "class TableWithTwoColumnsPrimaryField:\n",
    "    '''\n",
    "    A class of field of table with two columns, one of which is PrimaryKey\n",
    "    '''\n",
    "    primarykeycolumn = PrimaryKey(\"primarykey\")\n",
    "    \n",
    "    def __init__(self, primarykey, column):\n",
    "        self.primarykeycolumn = primarykey\n",
    "        self.column = column\n",
    "\n",
    "    def __del__(self):\n",
    "        del self.primarykeycolumn\n",
    "\n",
    "\n",
    "y1 = TableWithTwoColumnsPrimaryField([2,\"2\"], \"one\")\n",
    "y2 = TableWithTwoColumnsPrimaryField([3, \"5\"], \"two\")\n",
    "y3 = TableWithTwoColumnsPrimaryField([1,'4'], \"three\")\n",
    "\n",
    "print(y1.primarykey)\n",
    "print(y2.primarykey)\n",
    "print(y3.primarykey)\n",
    "\n",
    "del y2\n",
    "\n",
    "y4 = TableWithTwoColumnsPrimaryField([2,'2'], \"two 2\")"
   ]
  },
  {
   "cell_type": "markdown",
   "metadata": {
    "colab_type": "text",
    "id": "FQsdiIiSxzKW"
   },
   "source": [
    "### Задача 5 [PositiveSmallIntegerField] (0.03 балла)\n",
    "\n",
    "**Условие:**\n",
    "\n",
    "С помощью механизма дескрипторов реализуйте тип данных PositiveSmallIntegerField - поле, принимающее значения от 0 до 32767."
   ]
  },
  {
   "cell_type": "code",
   "execution_count": 24,
   "metadata": {
    "colab": {},
    "colab_type": "code",
    "collapsed": true,
    "id": "Z_f4pb47cRrV"
   },
   "outputs": [],
   "source": [
    "class DescPositiveSmallIntegerField:\n",
    "    '''\n",
    "    A discriptor for small positive interger numbers in range [0, 32767]\n",
    "    '''\n",
    "    def __init__(self, initval=None):\n",
    "        self.val = initval\n",
    "\n",
    "    def __get__(self, instance, objtype):\n",
    "        return self.val\n",
    "\n",
    "    def __set__(self, instance, value):\n",
    "        if not isinstance(value, int):\n",
    "            raise TypeError(\"Wrong number type for value\")\n",
    "        if value >= 0 and value <= 32767:\n",
    "            self.val = value\n",
    "        else:\n",
    "            raise ValueError(\"Values should be in range [0, 32767]\")\n",
    "                \n",
    "    def __delete__(self, instance):\n",
    "        del instance"
   ]
  },
  {
   "cell_type": "code",
   "execution_count": 25,
   "metadata": {
    "colab": {},
    "colab_type": "code",
    "collapsed": true,
    "id": "n0jnL5OocRw7"
   },
   "outputs": [],
   "source": [
    "class PositiveSmallIntegerField:\n",
    "    '''\n",
    "    A class of small positive interger numbers in range [0, 32767]\n",
    "    '''\n",
    "    number = DescPositiveSmallIntegerField()\n",
    "    \n",
    "    def __init__(self, number):\n",
    "        self.number = number"
   ]
  },
  {
   "cell_type": "markdown",
   "metadata": {
    "colab_type": "text",
    "id": "F0YWjwUx2Oel"
   },
   "source": [
    "Примеры запуска:"
   ]
  },
  {
   "cell_type": "code",
   "execution_count": 26,
   "metadata": {
    "colab": {},
    "colab_type": "code",
    "collapsed": true,
    "id": "puliTmV42Oox"
   },
   "outputs": [],
   "source": [
    "a = PositiveSmallIntegerField(832)\n",
    "# PositiveSmallIntegerField(-3).number\n",
    "# PositiveSmallIntegerField(3.).number\n",
    "# PositiveSmallIntegerField('3').number"
   ]
  },
  {
   "cell_type": "code",
   "execution_count": 27,
   "metadata": {
    "colab": {
     "base_uri": "https://localhost:8080/",
     "height": 34
    },
    "colab_type": "code",
    "collapsed": false,
    "id": "MsSM0aUzXN4o",
    "outputId": "42f363dc-b3c4-4060-e724-4739c360f639"
   },
   "outputs": [],
   "source": [
    "del a"
   ]
  },
  {
   "cell_type": "code",
   "execution_count": 28,
   "metadata": {
    "colab": {
     "base_uri": "https://localhost:8080/",
     "height": 164
    },
    "colab_type": "code",
    "collapsed": false,
    "id": "FEtGry9ZYKAH",
    "outputId": "400bc1e6-6556-4aba-c1d3-10fcfc7ea477"
   },
   "outputs": [
    {
     "ename": "NameError",
     "evalue": "name 'a' is not defined",
     "output_type": "error",
     "traceback": [
      "\u001b[0;31m---------------------------------------------------------------------------\u001b[0m",
      "\u001b[0;31mNameError\u001b[0m                                 Traceback (most recent call last)",
      "\u001b[0;32m<ipython-input-28-60b725f10c9c>\u001b[0m in \u001b[0;36m<module>\u001b[0;34m()\u001b[0m\n\u001b[0;32m----> 1\u001b[0;31m \u001b[0ma\u001b[0m\u001b[0;34m\u001b[0m\u001b[0;34m\u001b[0m\u001b[0m\n\u001b[0m",
      "\u001b[0;31mNameError\u001b[0m: name 'a' is not defined"
     ]
    }
   ],
   "source": [
    "a"
   ]
  },
  {
   "cell_type": "markdown",
   "metadata": {
    "colab_type": "text",
    "id": "LnJG_FWDxzKX"
   },
   "source": [
    "### Задача 6 [Timer] (0.02 балла)\n",
    "\n",
    "**Условие:**\n",
    "\n",
    "Реализовать контекстный менеджер, который выводит время, проведенное в нём."
   ]
  },
  {
   "cell_type": "code",
   "execution_count": 30,
   "metadata": {
    "colab": {},
    "colab_type": "code",
    "collapsed": false,
    "id": "8U9TiEmIxzKd"
   },
   "outputs": [],
   "source": [
    "import time\n",
    "\n",
    "class measure_time:\n",
    "    '''\n",
    "    A context manager measures time spent in it\n",
    "    '''\n",
    "    def __enter__(self):\n",
    "        self.start_time = time.time()\n",
    "        return self\n",
    "    \n",
    "    def __exit__(self, exc_type, exc_val, exc_tb):\n",
    "        self.end_time = time.time()\n",
    "        self.time = (self.end_time - self.start_time) * 1000\n",
    "        print('Functions in context manager finished in {} ms'.format(self.time))\n",
    "        if exc_val:\n",
    "            raise"
   ]
  },
  {
   "cell_type": "markdown",
   "metadata": {
    "colab_type": "text",
    "id": "x-decxeQ2Ka_"
   },
   "source": [
    "Пример запуска:"
   ]
  },
  {
   "cell_type": "code",
   "execution_count": 31,
   "metadata": {
    "colab": {
     "base_uri": "https://localhost:8080/",
     "height": 34
    },
    "colab_type": "code",
    "collapsed": false,
    "id": "lDQi2Z49xzKg",
    "outputId": "96ed8e0d-395e-4968-b119-ee9f471ddea3"
   },
   "outputs": [
    {
     "name": "stdout",
     "output_type": "stream",
     "text": [
      "Functions in context manager finished in 5.6247711181640625 ms\n"
     ]
    }
   ],
   "source": [
    "with measure_time() as mt:\n",
    "    res = [0] * 1000000"
   ]
  },
  {
   "cell_type": "code",
   "execution_count": null,
   "metadata": {
    "collapsed": true
   },
   "outputs": [],
   "source": []
  }
 ],
 "metadata": {
  "colab": {
   "collapsed_sections": [],
   "name": "tmp 2.ipynb",
   "provenance": []
  },
  "kernelspec": {
   "display_name": "Python 3",
   "language": "python",
   "name": "python3"
  },
  "language_info": {
   "codemirror_mode": {
    "name": "ipython",
    "version": 3
   },
   "file_extension": ".py",
   "mimetype": "text/x-python",
   "name": "python",
   "nbconvert_exporter": "python",
   "pygments_lexer": "ipython3",
   "version": "3.6.8"
  }
 },
 "nbformat": 4,
 "nbformat_minor": 0
}
